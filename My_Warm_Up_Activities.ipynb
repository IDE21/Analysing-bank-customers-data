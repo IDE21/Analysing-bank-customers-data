{
  "cells": [
    {
      "cell_type": "markdown",
      "metadata": {
        "id": "view-in-github",
        "colab_type": "text"
      },
      "source": [
        "<a href=\"https://colab.research.google.com/github/IDE21/Analysing-bank-customers-data/blob/main/My_Warm_Up_Activities.ipynb\" target=\"_parent\"><img src=\"https://colab.research.google.com/assets/colab-badge.svg\" alt=\"Open In Colab\"/></a>"
      ]
    },
    {
      "cell_type": "markdown",
      "metadata": {
        "id": "9n4aKnoixISe"
      },
      "source": [
        "# Warm Up Activities\n",
        "\n",
        "In this notebook you'll find a few different exercises combining dictionaries and lists in order to practice before the main activity of this project, Football Dictionaries."
      ]
    },
    {
      "cell_type": "markdown",
      "metadata": {
        "id": "fWWy-he8xISf"
      },
      "source": [
        "## 1. Transform a user into a dictionary\n",
        "\n",
        "Write a function `build_user_as_dict` that receives three parameters (`name, email, age`) and returns a dictionary:"
      ]
    },
    {
      "cell_type": "markdown",
      "metadata": {
        "id": "S7jvct38xISg"
      },
      "source": [
        "##### ## Your Task ##"
      ]
    },
    {
      "cell_type": "code",
      "execution_count": null,
      "metadata": {
        "id": "Nqm6wvL6xISg"
      },
      "outputs": [],
      "source": [
        "def build_user_as_dict(name, email, age):\n",
        "    return {\n",
        "        \"name\" : name,\n",
        "        \"email\" : email,\n",
        "        \"age\" : age\n",
        "    }"
      ]
    },
    {
      "cell_type": "markdown",
      "metadata": {
        "id": "V3uwgzsbxISg"
      },
      "source": [
        "##### Examples:\n",
        "\n",
        "The following code"
      ]
    },
    {
      "cell_type": "code",
      "execution_count": null,
      "metadata": {
        "id": "3HN1olPKxISg",
        "outputId": "1d2e4cdb-d46c-44ae-d5a2-e09c98316a86"
      },
      "outputs": [
        {
          "data": {
            "text/plain": [
              "{'name': 'John', 'email': 'john@gmail.com', 'age': 31}"
            ]
          },
          "execution_count": 58,
          "metadata": {},
          "output_type": "execute_result"
        }
      ],
      "source": [
        "build_user_as_dict('John', 'john@gmail.com', 31)"
      ]
    },
    {
      "cell_type": "markdown",
      "metadata": {
        "id": "RqBC3_2yxISh"
      },
      "source": [
        "should produce this output:"
      ]
    },
    {
      "cell_type": "code",
      "execution_count": null,
      "metadata": {
        "id": "VtYTk8eAxISh",
        "outputId": "7ac8fa7f-4c4d-4663-df67-c40bdec7bd33"
      },
      "outputs": [
        {
          "data": {
            "text/plain": [
              "{'name': 'John', 'email': 'john@gmail.com', 'age': 31}"
            ]
          },
          "execution_count": 61,
          "metadata": {},
          "output_type": "execute_result"
        }
      ],
      "source": [
        "{\n",
        "    'name': 'John',\n",
        "    'email': 'john@gmail.com',\n",
        "    'age': 31\n",
        "}"
      ]
    },
    {
      "cell_type": "markdown",
      "metadata": {
        "id": "DS2zWibfxISh"
      },
      "source": [
        "##### == Tests =="
      ]
    },
    {
      "cell_type": "code",
      "execution_count": null,
      "metadata": {
        "id": "Pa6MM98NxISh"
      },
      "outputs": [],
      "source": [
        "assert build_user_as_dict('John', 'john@gmail.com', 31) == {\n",
        "    'name': 'John',\n",
        "    'email': 'john@gmail.com',\n",
        "    'age': 31\n",
        "}"
      ]
    },
    {
      "cell_type": "code",
      "execution_count": null,
      "metadata": {
        "id": "kwpuLOsbxISh"
      },
      "outputs": [],
      "source": [
        "assert build_user_as_dict('Mary', 'mary@hotmail.com', 28) == {\n",
        "    'name': 'Mary',\n",
        "    'email': 'mary@hotmail.com',\n",
        "    'age': 28\n",
        "}"
      ]
    },
    {
      "cell_type": "markdown",
      "metadata": {
        "id": "ykZHZf7OxISh"
      },
      "source": [
        "---\n",
        "\n",
        "## 2. Transform list into dictionary\n",
        "\n",
        "The function `transform_user_list_to_dict` receives a list with the user information and transforms it into a dictionary.\n",
        "\n",
        "Here's an example list, as you can see, the name is in the first position, email in 2nd and age in 3rd:"
      ]
    },
    {
      "cell_type": "code",
      "execution_count": null,
      "metadata": {
        "id": "vBrEE_QVxISh",
        "outputId": "6ce432aa-4b68-4ca0-999c-95ca41a5c1d4"
      },
      "outputs": [
        {
          "data": {
            "text/plain": [
              "['Mary', 'mary@hotmail.com', 28]"
            ]
          },
          "execution_count": 35,
          "metadata": {},
          "output_type": "execute_result"
        }
      ],
      "source": [
        "['Mary', 'mary@hotmail.com', 28]"
      ]
    },
    {
      "cell_type": "markdown",
      "metadata": {
        "id": "1SFB-9FmxISh"
      },
      "source": [
        "##### ## Your Task ##"
      ]
    },
    {
      "cell_type": "code",
      "execution_count": null,
      "metadata": {
        "id": "ORaKn3MVxISh"
      },
      "outputs": [],
      "source": [
        "def transform_user_list_to_dict(a_user):\n",
        "    return {\n",
        "        'name': a_user[0],\n",
        "        'email': a_user[1],\n",
        "        'age': a_user[2],\n",
        "    }"
      ]
    },
    {
      "cell_type": "markdown",
      "metadata": {
        "id": "2oZ6h5iCxISh"
      },
      "source": [
        "##### Examples:\n",
        "\n",
        "The following code"
      ]
    },
    {
      "cell_type": "code",
      "execution_count": null,
      "metadata": {
        "id": "ekTLhnkexISh",
        "outputId": "5e14b4a5-7b9c-456a-acd6-fa2f3d8918b5"
      },
      "outputs": [
        {
          "data": {
            "text/plain": [
              "{'name': 'Mary', 'email': 'mary@hotmail.com', 'age': 28}"
            ]
          },
          "execution_count": 153,
          "metadata": {},
          "output_type": "execute_result"
        }
      ],
      "source": [
        "transform_user_list_to_dict(['Mary', 'mary@hotmail.com', 28])"
      ]
    },
    {
      "cell_type": "markdown",
      "metadata": {
        "id": "nEkqkWl-xISi"
      },
      "source": [
        "should produce this output:"
      ]
    },
    {
      "cell_type": "code",
      "execution_count": null,
      "metadata": {
        "id": "WttdbiO7xISi",
        "outputId": "597f1c22-40a4-4ced-b381-a07181992ccf"
      },
      "outputs": [
        {
          "data": {
            "text/plain": [
              "{'name': 'Mary', 'email': 'mary@hotmail.com', 'age': 28}"
            ]
          },
          "execution_count": 156,
          "metadata": {},
          "output_type": "execute_result"
        }
      ],
      "source": [
        "{\n",
        "    'name': 'Mary',\n",
        "    'email': 'mary@hotmail.com',\n",
        "    'age': 28\n",
        "}"
      ]
    },
    {
      "cell_type": "markdown",
      "metadata": {
        "id": "UiYuFa4mxISi"
      },
      "source": [
        "##### == Tests =="
      ]
    },
    {
      "cell_type": "code",
      "execution_count": null,
      "metadata": {
        "id": "z1Xt9YJpxISi"
      },
      "outputs": [],
      "source": [
        "l1 = ['John', 'john@gmail.com', 31]\n",
        "\n",
        "assert transform_user_list_to_dict(l1) == {\n",
        "    'name': 'John',\n",
        "    'email': 'john@gmail.com',\n",
        "    'age': 31\n",
        "}"
      ]
    },
    {
      "cell_type": "code",
      "execution_count": null,
      "metadata": {
        "id": "ozHL5HxBxISi"
      },
      "outputs": [],
      "source": [
        "l2 = ['Mary', 'mary@hotmail.com', 28]\n",
        "\n",
        "assert transform_user_list_to_dict(l2) == {\n",
        "    'name': 'Mary',\n",
        "    'email': 'mary@hotmail.com',\n",
        "    'age': 28\n",
        "}"
      ]
    },
    {
      "cell_type": "markdown",
      "metadata": {
        "id": "zFrOCceaxISi"
      },
      "source": [
        "---\n",
        "\n",
        "## 3. Transform multiple users to dictionary list\n",
        "\n",
        "We're now going to combine multiple dictionaries in a list. If we have 2 users in the form of lists:"
      ]
    },
    {
      "cell_type": "code",
      "execution_count": null,
      "metadata": {
        "id": "9F7K_OmQxISi",
        "outputId": "2f98c238-8a42-4eaa-f3aa-4fc571a883d3"
      },
      "outputs": [
        {
          "data": {
            "text/plain": [
              "[['John', 'john@gmail.com', 31], ['Mary', 'mary@hotmail.com', 28]]"
            ]
          },
          "execution_count": 163,
          "metadata": {},
          "output_type": "execute_result"
        }
      ],
      "source": [
        "users = [\n",
        "    ['John', 'john@gmail.com', 31],\n",
        "    ['Mary', 'mary@hotmail.com', 28]\n",
        "]\n",
        "users"
      ]
    },
    {
      "cell_type": "markdown",
      "metadata": {
        "id": "n0cX7L0CxISi"
      },
      "source": [
        "we want to see them now represented as dictionaries:"
      ]
    },
    {
      "cell_type": "code",
      "execution_count": null,
      "metadata": {
        "id": "q3_nbNdExISi",
        "outputId": "b5987178-5e2d-422a-ac20-6edbc96f06b7"
      },
      "outputs": [
        {
          "data": {
            "text/plain": [
              "[{'name': 'John', 'email': 'john@gmail.com', 'age': 31},\n",
              " {'name': 'Mary', 'email': 'mary@hotmail.com', 'age': 28}]"
            ]
          },
          "execution_count": 166,
          "metadata": {},
          "output_type": "execute_result"
        }
      ],
      "source": [
        "[{\n",
        "    'name': 'John',\n",
        "    'email': 'john@gmail.com',\n",
        "    'age': 31\n",
        "}, {\n",
        "    'name': 'Mary',\n",
        "    'email': 'mary@hotmail.com',\n",
        "    'age': 28\n",
        "}]"
      ]
    },
    {
      "cell_type": "markdown",
      "metadata": {
        "id": "Im53cvHbxISi"
      },
      "source": [
        "We transform a list of lists, into a list of dictonaries."
      ]
    },
    {
      "cell_type": "markdown",
      "metadata": {
        "id": "ra5zWEwrxISi"
      },
      "source": [
        "##### ## Your Task ##"
      ]
    },
    {
      "cell_type": "code",
      "execution_count": null,
      "metadata": {
        "id": "4pERr1IzxISi"
      },
      "outputs": [],
      "source": [
        "def transform_multiple_users_to_dicts(multiple_users):\n",
        "    users = []\n",
        "    for user in multiple_users:\n",
        "        user_dict = {\n",
        "            'name': user[0],\n",
        "            'email': user[1],\n",
        "            'age': user[2],\n",
        "        }\n",
        "        users.append(user_dict)\n",
        "    return users"
      ]
    },
    {
      "cell_type": "markdown",
      "metadata": {
        "id": "Lo0wqzCnxISi"
      },
      "source": [
        "##### Examples:\n",
        "\n",
        "The following code"
      ]
    },
    {
      "cell_type": "code",
      "execution_count": null,
      "metadata": {
        "id": "EYJOoycFxISi",
        "outputId": "12299ce0-1927-48ad-90ee-4abe4f6a1f7d"
      },
      "outputs": [
        {
          "data": {
            "text/plain": [
              "[{'name': 'John', 'email': 'john@gmail.com', 'age': 31},\n",
              " {'name': 'Mary', 'email': 'mary@hotmail.com', 'age': 28}]"
            ]
          },
          "execution_count": 210,
          "metadata": {},
          "output_type": "execute_result"
        }
      ],
      "source": [
        "users = [\n",
        "    ['John', 'john@gmail.com', 31],\n",
        "    ['Mary', 'mary@hotmail.com', 28]\n",
        "]\n",
        "\n",
        "transform_multiple_users_to_dicts(users)"
      ]
    },
    {
      "cell_type": "markdown",
      "metadata": {
        "id": "TBP-2IL1xISi"
      },
      "source": [
        "should produce this output:"
      ]
    },
    {
      "cell_type": "code",
      "execution_count": null,
      "metadata": {
        "id": "548twVc5xISi",
        "outputId": "10b12616-73aa-4331-88f8-8eb19f8f11ac"
      },
      "outputs": [
        {
          "data": {
            "text/plain": [
              "[{'name': 'John', 'email': 'john@gmail.com', 'age': 31},\n",
              " {'name': 'Mary', 'email': 'mary@hotmail.com', 'age': 28}]"
            ]
          },
          "execution_count": 213,
          "metadata": {},
          "output_type": "execute_result"
        }
      ],
      "source": [
        "[{\n",
        "    'name': 'John',\n",
        "    'email': 'john@gmail.com',\n",
        "    'age': 31\n",
        "}, {\n",
        "    'name': 'Mary',\n",
        "    'email': 'mary@hotmail.com',\n",
        "    'age': 28\n",
        "}]"
      ]
    },
    {
      "cell_type": "markdown",
      "metadata": {
        "id": "noNNhvtSxISj"
      },
      "source": [
        "##### == Tests =="
      ]
    },
    {
      "cell_type": "code",
      "execution_count": null,
      "metadata": {
        "id": "pCJo4Z7WxISj"
      },
      "outputs": [],
      "source": [
        "users = [\n",
        "    ['John', 'john@gmail.com', 31],\n",
        "    ['Mary', 'mary@hotmail.com', 28],\n",
        "    ['Rose', 'rose@yahoo.com', 30]\n",
        "]\n",
        "\n",
        "users_as_dict = transform_multiple_users_to_dicts(users)\n",
        "\n",
        "assert users_as_dict == [{\n",
        "    'name': 'John',\n",
        "    'email': 'john@gmail.com',\n",
        "    'age': 31\n",
        "}, {\n",
        "    'name': 'Mary',\n",
        "    'email': 'mary@hotmail.com',\n",
        "    'age': 28\n",
        "}, {\n",
        "    'name': 'Rose',\n",
        "    'email': 'rose@yahoo.com',\n",
        "    'age': 30\n",
        "}]\n"
      ]
    },
    {
      "cell_type": "markdown",
      "metadata": {
        "id": "OrjIeKGJxISj"
      },
      "source": [
        "---\n",
        "\n",
        "## 4. Group users by email domain\n",
        "\n",
        "The function `group_users_by_email_domain` will receive a list of users as dictionaries, like the following one:"
      ]
    },
    {
      "cell_type": "code",
      "execution_count": null,
      "metadata": {
        "id": "48TvoRTpxISj"
      },
      "outputs": [],
      "source": [
        "[{\n",
        "    'name': 'John',\n",
        "    'email': 'john@gmail.com',\n",
        "    'age': 31\n",
        "}, {\n",
        "    'name': 'Mary',\n",
        "    'email': 'mary@hotmail.com',\n",
        "    'age': 28\n",
        "}, {\n",
        "    'name': 'Rose',\n",
        "    'email': 'Rose@gmail.com',\n",
        "    'age': 30\n",
        "}]"
      ]
    },
    {
      "cell_type": "markdown",
      "metadata": {
        "id": "4yjQrN6SxISj"
      },
      "source": [
        "and it should group them by the domain name of their email, something like:\n",
        "\n",
        "* gmail.com:\n",
        " * Rose\n",
        " * John\n",
        "* hotmail.com:\n",
        " * Mary\n",
        "\n",
        "Which in code looks like:"
      ]
    },
    {
      "cell_type": "code",
      "execution_count": null,
      "metadata": {
        "id": "P7HmDDAtxISj"
      },
      "outputs": [],
      "source": [
        "{\n",
        "    'gmail.com': [{\n",
        "        'name': 'John',\n",
        "        'email': 'john@gmail.com',\n",
        "        'age': 31\n",
        "    }, {\n",
        "        'name': 'Rose',\n",
        "        'email': 'Rose@gmail.com',\n",
        "        'age': 30\n",
        "    }],\n",
        "    'hotmail.com': [{\n",
        "        'name': 'Mary',\n",
        "        'email': 'mary@hotmail.com',\n",
        "        'age': 28\n",
        "    }]\n",
        "}"
      ]
    },
    {
      "cell_type": "markdown",
      "metadata": {
        "id": "Wwldion1xISm"
      },
      "source": [
        "##### ## Your Task ##"
      ]
    },
    {
      "cell_type": "code",
      "execution_count": null,
      "metadata": {
        "id": "zM1PY5y6xISm"
      },
      "outputs": [],
      "source": [
        "def group_users_by_email_domain(multiple_users):\n",
        "    users_dict = {}\n",
        "    for i in users:\n",
        "        domain = i['email'].split('@')[1]\n",
        "        users_dict.setdefault(domain, [])\n",
        "        users_dict[domain].append(user)\n",
        "    return users_dict"
      ]
    },
    {
      "cell_type": "markdown",
      "metadata": {
        "id": "NrFQJkqkxISn"
      },
      "source": [
        "##### == Tests =="
      ]
    },
    {
      "cell_type": "code",
      "execution_count": null,
      "metadata": {
        "id": "M9MuCktnxISn"
      },
      "outputs": [],
      "source": [
        "users = [{\n",
        "    'name': 'John',\n",
        "    'email': 'john@gmail.com',     # gmail\n",
        "    'age': 31\n",
        "}, {\n",
        "    'name': 'Mary',\n",
        "    'email': 'mary@hotmail.com',   # hotmail\n",
        "    'age': 28\n",
        "}, {\n",
        "    'name': 'Rose',\n",
        "    'email': 'rose@yahoo.com',     # yahoo\n",
        "    'age': 30\n",
        "}, {\n",
        "    'name': 'Jane',\n",
        "    'email': 'jane@gmail.com',     # gmail\n",
        "    'age': 25\n",
        "}, {\n",
        "    'name': 'Dustin',\n",
        "    'email': 'dustin@hotmail.com',  # hotmail\n",
        "    'age': 35\n",
        "}]\n",
        "\n",
        "users_grouped = group_users_by_email_domain(users)\n",
        "\n",
        "assert users_grouped == {\n",
        "    'gmail.com': [{\n",
        "        'name': 'John',\n",
        "        'email': 'john@gmail.com',     # gmail\n",
        "        'age': 31\n",
        "    }, {\n",
        "        'name': 'Jane',\n",
        "        'email': 'jane@gmail.com',     # gmail\n",
        "        'age': 25\n",
        "    }],\n",
        "    'hotmail.com': [{\n",
        "        'name': 'Mary',\n",
        "        'email': 'mary@hotmail.com',   # hotmail\n",
        "        'age': 28\n",
        "    }, {\n",
        "        'name': 'Dustin',\n",
        "        'email': 'dustin@hotmail.com',  # hotmail\n",
        "        'age': 35\n",
        "    }],\n",
        "    'yahoo.com': [{\n",
        "        'name': 'Rose',\n",
        "        'email': 'rose@yahoo.com',     # yahoo\n",
        "        'age': 30\n",
        "    }]\n",
        "}"
      ]
    },
    {
      "cell_type": "code",
      "execution_count": null,
      "metadata": {
        "id": "cRNkSzwtxISn"
      },
      "outputs": [],
      "source": [
        "users = [{\n",
        "    'name': 'Jason',\n",
        "    'email': 'jason@rmotr.com',\n",
        "    'age': 61\n",
        "}]\n",
        "users_grouped = group_users_by_email_domain(users)\n",
        "\n",
        "assert users_grouped == {\n",
        "    'rmotr.com': [{\n",
        "        'name': 'Jason',\n",
        "        'email': 'jason@rmotr.com',\n",
        "        'age': 61\n",
        "    }]\n",
        "}\n"
      ]
    }
  ],
  "metadata": {
    "kernelspec": {
      "display_name": "Python 3 (ipykernel)",
      "language": "python",
      "name": "python3"
    },
    "language_info": {
      "codemirror_mode": {
        "name": "ipython",
        "version": 3
      },
      "file_extension": ".py",
      "mimetype": "text/x-python",
      "name": "python",
      "nbconvert_exporter": "python",
      "pygments_lexer": "ipython3",
      "version": "3.11.7"
    },
    "colab": {
      "provenance": [],
      "include_colab_link": true
    }
  },
  "nbformat": 4,
  "nbformat_minor": 0
}